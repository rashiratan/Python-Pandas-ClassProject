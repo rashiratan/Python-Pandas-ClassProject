{
  "nbformat": 4,
  "nbformat_minor": 0,
  "metadata": {
    "colab": {
      "provenance": [],
      "collapsed_sections": [
        "KZI0X9817D70",
        "AZH2KdNg6_d6",
        "vGmyG6Kt679L",
        "mPdNMxEL6wPW"
      ]
    },
    "kernelspec": {
      "name": "python3",
      "display_name": "Python 3"
    },
    "language_info": {
      "name": "python"
    }
  },
  "cells": [
    {
      "cell_type": "markdown",
      "source": [
        "#Pandas Data Analysis and Business Applications\n",
        "\n",
        "This assignment is to demonstrate my ability to perform data analysis using business scenarios using Pandas. Here are the skills demonstrated in this notebook:\n",
        "\n",
        "  - Import and create Pandas DataFrames from dictionaries and lists.\n",
        "  - Identify and handle missing data.\n",
        "  - Transform data by adding calculated columns and renaming columns.\n",
        "  - Filter and index data using boolean expressions and string methods.\n",
        "  - Group data and perform multiple aggregations.\n",
        "  - Merge DataFrames and create pivot tables.\n",
        "  - Save and load data using CSV and Excel formats.\n",
        "  - Communicate your data analysis findings in a clear, concise report.\n",
        "\n",
        "\n"
      ],
      "metadata": {
        "id": "63W8EXnF7Tx_"
      }
    },
    {
      "cell_type": "code",
      "source": [
        "#note: you must execute this cell to run the code correctly\n",
        "import pandas as pd"
      ],
      "metadata": {
        "id": "1Ei8kkYG7NWu"
      },
      "execution_count": 21,
      "outputs": []
    },
    {
      "cell_type": "markdown",
      "source": [
        "##Task 1: Data Import and Creation"
      ],
      "metadata": {
        "id": "aCZlttgL7IkV"
      }
    },
    {
      "cell_type": "code",
      "execution_count": 22,
      "metadata": {
        "id": "1a9c4_1azoOQ"
      },
      "outputs": [],
      "source": [
        "df_products = pd.DataFrame({\n",
        "    'Product': ['Tablet', 'Smartphone', 'Laptop', 'Smartwatch'],\n",
        "    'Price': [299.99, 499.99, 999.99, 199.99],\n",
        "    'Stock': [120, 150, 80, 200]})\n",
        "\n",
        "df_sales = pd.DataFrame({\n",
        "    'Region': ['North', 'South', 'East', 'West', 'North', 'South'],\n",
        "    'Sales': [250, 300, 450, 500, 350, 400]})"
      ]
    },
    {
      "cell_type": "markdown",
      "source": [
        "##Task 2: Data Cleaning and Transformation\n"
      ],
      "metadata": {
        "id": "KZI0X9817D70"
      }
    },
    {
      "cell_type": "code",
      "source": [
        "df_nan = pd.DataFrame({\n",
        "    'Product': ['TV', 'Radio', 'Speaker'],\n",
        "    'Price': [499.99, None, 199.99],\n",
        "    'Stock': [20, 30, None]})\n",
        "\n",
        "#Fill missing \"Price\" values with the mean price and \"Stock\" values with 0.\n",
        "df_nan.fillna({'Price': df_nan['Price'].mean()}, inplace = True)\n",
        "df_nan.fillna({'Stock': 0}, inplace=True)\n",
        "\n",
        "# For df_products, add a new column \"Total Value\" that is the product of \"Price\" and \"Stock\"\n",
        "df_products['Total Value'] = df_products['Price']*df_products['Stock']\n",
        "\n",
        "# Create another new column in df_products named \"Discounted Price\" that applies a 10% discount to \"Price\".\n",
        "df_products['Discounted Price'] = df_products['Price']*0.9\n",
        "\n",
        "df_products.rename(columns={'Product': 'Item', 'Price' : 'Unit Price', 'Stock': 'Inventory'}, inplace=True)\n",
        "\n",
        "\n",
        "print(df_nan)\n",
        "print(df_products)"
      ],
      "metadata": {
        "colab": {
          "base_uri": "https://localhost:8080/"
        },
        "id": "vxlvojDPHWxf",
        "outputId": "b4ccf2b6-ef8b-4f40-e059-1ddc2c1742c3"
      },
      "execution_count": 16,
      "outputs": [
        {
          "output_type": "stream",
          "name": "stdout",
          "text": [
            "   Product   Price  Stock\n",
            "0       TV  499.99   20.0\n",
            "1    Radio  349.99   30.0\n",
            "2  Speaker  199.99    0.0\n",
            "         Item  Unit Price  Inventory  Total Value  Discounted Price\n",
            "0      Tablet      299.99        120      35998.8           269.991\n",
            "1  Smartphone      499.99        150      74998.5           449.991\n",
            "2      Laptop      999.99         80      79999.2           899.991\n",
            "3  Smartwatch      199.99        200      39998.0           179.991\n"
          ]
        }
      ]
    },
    {
      "cell_type": "markdown",
      "source": [
        "##Task 3: Data Filtering and Indexing\n"
      ],
      "metadata": {
        "id": "AZH2KdNg6_d6"
      }
    },
    {
      "cell_type": "code",
      "source": [
        "#From df_products, filter and display all items with a \"Unit Price\" greater than 300\n",
        "pricey_items = df_products[df_products['Unit Price']>300]\n",
        "print(f\"Products that have Unit Price greater than $300: \\n{pricey_items} \\n\")\n",
        "\n",
        "#Use string methods to filter and display items in df_products whose names contain the letter \"a\" (case-insensitive)\n",
        "items_with_a = df_products[df_products['Item'].str.contains('a', case=False)]\n",
        "print(f\"\\n Products whose names contain 'a' (case-insensitive): \\n{items_with_a}\")"
      ],
      "metadata": {
        "colab": {
          "base_uri": "https://localhost:8080/"
        },
        "id": "lid-2VLfaGBr",
        "outputId": "fc670181-6a16-478a-ff49-4127328f506b"
      },
      "execution_count": 17,
      "outputs": [
        {
          "output_type": "stream",
          "name": "stdout",
          "text": [
            "Products that have Unit Price greater than $300: \n",
            "         Item  Unit Price  Inventory  Total Value  Discounted Price\n",
            "1  Smartphone      499.99        150      74998.5           449.991\n",
            "2      Laptop      999.99         80      79999.2           899.991 \n",
            "\n",
            "\n",
            " Products whose names contain 'a' (case-insensitive): \n",
            "         Item  Unit Price  Inventory  Total Value  Discounted Price\n",
            "0      Tablet      299.99        120      35998.8           269.991\n",
            "1  Smartphone      499.99        150      74998.5           449.991\n",
            "2      Laptop      999.99         80      79999.2           899.991\n",
            "3  Smartwatch      199.99        200      39998.0           179.991\n"
          ]
        }
      ]
    },
    {
      "cell_type": "markdown",
      "source": [
        "##Task 4: Grouping and Aggregation\n"
      ],
      "metadata": {
        "id": "vGmyG6Kt679L"
      }
    },
    {
      "cell_type": "code",
      "source": [
        "#Group df_sales by \"Region\" and calculate the total sales for each region.\n",
        "grouped_region = df_sales.groupby('Region').sum('Sales')\n",
        "print(f\"Total Sales by Region:\\n {grouped_region} \\n\")\n",
        "\n",
        "\n",
        "#Group df_sales by \"Region\" and compute both the sum and average of sales.\n",
        "aggregated = df_sales.groupby('Region').agg({'Sales': ['sum', 'mean']})\n",
        "print(f\"\\n Total Sales and Mean by Region:\\n {aggregated}\")\n"
      ],
      "metadata": {
        "colab": {
          "base_uri": "https://localhost:8080/"
        },
        "id": "ape9jKN9oP80",
        "outputId": "9b382139-800b-4abf-be49-cead949797e7"
      },
      "execution_count": 23,
      "outputs": [
        {
          "output_type": "stream",
          "name": "stdout",
          "text": [
            "Total Sales by Region:\n",
            "         Sales\n",
            "Region       \n",
            "East      450\n",
            "North     600\n",
            "South     700\n",
            "West      500 \n",
            "\n",
            "\n",
            " Total Sales and Mean by Region:\n",
            "        Sales       \n",
            "         sum   mean\n",
            "Region             \n",
            "East     450  450.0\n",
            "North    600  300.0\n",
            "South    700  350.0\n",
            "West     500  500.0\n"
          ]
        }
      ]
    },
    {
      "cell_type": "markdown",
      "source": [
        "##Task 5: Merging and Pivot Tables"
      ],
      "metadata": {
        "id": "mPdNMxEL6wPW"
      }
    },
    {
      "cell_type": "code",
      "source": [
        "\n",
        "#Create a DataFrame named df_customers with the following data\n",
        "df_customers = pd.DataFrame({\n",
        "    'CustomerID': [1, 2, 3],\n",
        "    'Name': ['Alice', 'Bob', 'Charlie']\n",
        "})\n",
        "\n",
        "#Create another DataFrame named df_orders with the following data\n",
        "df_orders = pd.DataFrame({\n",
        "    'CustomerID': [1, 2, 1],\n",
        "    'OrderID': [101, 102, 103],\n",
        "    'Amount': [250, 150, 300]\n",
        "})\n",
        "\n",
        "#Merge df_customers and df_orders on \"CustomerID\" using an inner join\n",
        "merged = pd.merge(df_customers, df_orders, on='CustomerID', how='inner')\n",
        "print(f\"Customers and Orders Data: \\n{merged}\")\n",
        "\n",
        "#Create a pivot table from df_sales summarizing the total sales by region\n",
        "pivot = pd.pivot_table(df_sales, values='Sales', index='Region', aggfunc='sum')\n",
        "print(f\"Total Sales by Region:\\n {pivot}\\n\")"
      ],
      "metadata": {
        "colab": {
          "base_uri": "https://localhost:8080/"
        },
        "id": "guvBn8SaqDxN",
        "outputId": "b88a8241-46ab-4680-9b5d-48e7bc8a7a93"
      },
      "execution_count": 24,
      "outputs": [
        {
          "output_type": "stream",
          "name": "stdout",
          "text": [
            "Customers and Orders Data: \n",
            "   CustomerID   Name  OrderID  Amount\n",
            "0           1  Alice      101     250\n",
            "1           1  Alice      103     300\n",
            "2           2    Bob      102     150\n",
            "Total Sales by Region:\n",
            "         Sales\n",
            "Region       \n",
            "East      450\n",
            "North     600\n",
            "South     700\n",
            "West      500\n",
            "\n"
          ]
        }
      ]
    },
    {
      "cell_type": "markdown",
      "source": [
        "##Task 6: Data Persistence"
      ],
      "metadata": {
        "id": "7vCfwLnj6oqK"
      }
    },
    {
      "cell_type": "code",
      "source": [
        "#Save df_products to a CSV file named \"products.csv\"\n",
        "df_products.to_csv('Products.csv', index=False)\n",
        "print('DataFrame saved to \"Products.csv\" successfully.')\n",
        "\n",
        "#Save df_products to an Excel file named \"products.xlsx\" with the sheet name \"Products\"\n",
        "df_products.to_excel('Products.xlsx', index=False, sheet_name='Products')\n",
        "print('DataFrame saved to \"Products.xlsx\" successfully.\\n')\n",
        "\n",
        "#Reload both files into new DataFrames and display them.\n",
        "products_csv = pd.read_csv('Products.csv')\n",
        "products_excel = pd.read_excel('Products.xlsx')\n",
        "\n",
        "print(f'Loaded from .csv: \\n {products_csv}\\n')\n",
        "print(f'Loaded from .xlsx: \\n {products_excel}\\n')"
      ],
      "metadata": {
        "colab": {
          "base_uri": "https://localhost:8080/"
        },
        "id": "KthO3Xrbrkj5",
        "outputId": "9bcbeca1-ca47-45fc-f36b-622ba096afa1"
      },
      "execution_count": 20,
      "outputs": [
        {
          "output_type": "stream",
          "name": "stdout",
          "text": [
            "DataFrame saved to \"Products.csv\" successfully.\n",
            "DataFrame saved to \"Products.xlsx\" successfully.\n",
            "\n",
            "Loaded from .csv: \n",
            "          Item  Unit Price  Inventory  Total Value  Discounted Price\n",
            "0      Tablet      299.99        120      35998.8           269.991\n",
            "1  Smartphone      499.99        150      74998.5           449.991\n",
            "2      Laptop      999.99         80      79999.2           899.991\n",
            "3  Smartwatch      199.99        200      39998.0           179.991\n",
            "\n",
            "Loaded from .xlsx: \n",
            "          Item  Unit Price  Inventory  Total Value  Discounted Price\n",
            "0      Tablet      299.99        120      35998.8           269.991\n",
            "1  Smartphone      499.99        150      74998.5           449.991\n",
            "2      Laptop      999.99         80      79999.2           899.991\n",
            "3  Smartwatch      199.99        200      39998.0           179.991\n",
            "\n"
          ]
        }
      ]
    }
  ]
}